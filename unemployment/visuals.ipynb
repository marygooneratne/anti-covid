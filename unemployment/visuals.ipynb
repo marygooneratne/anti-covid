{
 "cells": [
  {
   "cell_type": "code",
   "execution_count": 1,
   "metadata": {
    "ExecuteTime": {
     "end_time": "2020-05-02T18:48:55.880498Z",
     "start_time": "2020-05-02T18:48:54.966166Z"
    }
   },
   "outputs": [],
   "source": [
    "import plotly \n",
    "import chart_studio.plotly as py\n",
    "import numpy as np\n",
    "import pandas as pd\n",
    "import matplotlib.pyplot as plt\n",
    "import plotly.graph_objects as go\n",
    "import plotly.express as px\n",
    "import plotly.io as pio\n",
    "pio.renderers.default = \"iframe_connected\"\n",
    "import IPython\n",
    "from IPython.display import IFrame\n",
    "from IPython.display import HTML, display"
   ]
  },
  {
   "cell_type": "markdown",
   "metadata": {},
   "source": [
    "## Downloading and combining latest data"
   ]
  },
  {
   "cell_type": "code",
   "execution_count": 2,
   "metadata": {
    "ExecuteTime": {
     "end_time": "2020-05-02T18:49:08.033435Z",
     "start_time": "2020-05-02T18:48:55.882708Z"
    }
   },
   "outputs": [
    {
     "name": "stdout",
     "output_type": "stream",
     "text": [
      "Downloading data for state AL\n",
      "Downloading data for state AK\n",
      "Downloading data for state AZ\n",
      "Downloading data for state AR\n",
      "Downloading data for state CA\n",
      "Downloading data for state CO\n",
      "Downloading data for state CT\n",
      "Downloading data for state DE\n",
      "Downloading data for state FL\n",
      "Downloading data for state GA\n",
      "Downloading data for state HI\n",
      "Downloading data for state ID\n",
      "Downloading data for state IL\n",
      "Downloading data for state IN\n",
      "Downloading data for state IA\n",
      "Downloading data for state KS\n",
      "Downloading data for state KY\n",
      "Downloading data for state LA\n",
      "Downloading data for state ME\n",
      "Downloading data for state MD\n",
      "Downloading data for state MA\n",
      "Downloading data for state MI\n",
      "Downloading data for state MN\n",
      "Downloading data for state MS\n",
      "Downloading data for state MO\n",
      "Downloading data for state MT\n",
      "Downloading data for state NE\n",
      "Downloading data for state NV\n",
      "Downloading data for state NH\n",
      "Downloading data for state NJ\n",
      "Downloading data for state NM\n",
      "Downloading data for state NY\n",
      "Downloading data for state NC\n",
      "Downloading data for state ND\n",
      "Downloading data for state OH\n",
      "Downloading data for state OK\n",
      "Downloading data for state OR\n",
      "Downloading data for state PA\n",
      "Downloading data for state RI\n",
      "Downloading data for state SC\n",
      "Downloading data for state SD\n",
      "Downloading data for state TN\n",
      "Downloading data for state TX\n",
      "Downloading data for state UT\n",
      "Downloading data for state VT\n",
      "Downloading data for state VA\n",
      "Downloading data for state WA\n",
      "Downloading data for state WV\n",
      "Downloading data for state WI\n",
      "Downloading data for state WY\n",
      "Downloading data for state DC\n",
      "Downloading data for state VIR\n",
      "Downloading data for state PRI\n",
      "Downloading data from CovidTracking\n"
     ]
    }
   ],
   "source": [
    "%run ./data_collection/00-daily-download.py"
   ]
  },
  {
   "cell_type": "code",
   "execution_count": 3,
   "metadata": {
    "ExecuteTime": {
     "end_time": "2020-05-02T18:49:08.756698Z",
     "start_time": "2020-05-02T18:49:08.036502Z"
    }
   },
   "outputs": [
    {
     "name": "stdout",
     "output_type": "stream",
     "text": [
      "Writing combined data to file data/combined/iclaims.csv\n",
      "done\n",
      "Writing covidtracking data to file data/combined/covidtracking.csv\n",
      "Combining covidtracking and fred, and writing data to file data/combined/combined.csv\n",
      "done\n"
     ]
    }
   ],
   "source": [
    "%run ./data_collection/01-daily-combine.py"
   ]
  },
  {
   "cell_type": "markdown",
   "metadata": {},
   "source": [
    "## Load data"
   ]
  },
  {
   "cell_type": "code",
   "execution_count": 4,
   "metadata": {
    "ExecuteTime": {
     "end_time": "2020-05-02T18:49:09.190469Z",
     "start_time": "2020-05-02T18:49:08.758490Z"
    }
   },
   "outputs": [
    {
     "name": "stderr",
     "output_type": "stream",
     "text": [
      "/opt/anaconda3/lib/python3.7/site-packages/IPython/core/interactiveshell.py:3063: DtypeWarning:\n",
      "\n",
      "Columns (0,1,2,4) have mixed types.Specify dtype option on import or set low_memory=False.\n",
      "\n"
     ]
    }
   ],
   "source": [
    "df = pd.read_csv('./data/combined/combined.csv')\n",
    "df4 = pd.read_csv('./data/static/employment-based-health-insurance-19 and over yrs old.csv')\n",
    "df4 = df4.head(255)"
   ]
  },
  {
   "cell_type": "markdown",
   "metadata": {},
   "source": [
    "## Create Variables"
   ]
  },
  {
   "cell_type": "code",
   "execution_count": 5,
   "metadata": {
    "ExecuteTime": {
     "end_time": "2020-05-02T18:49:09.223366Z",
     "start_time": "2020-05-02T18:49:09.192046Z"
    }
   },
   "outputs": [],
   "source": [
    "df['text'] = df['state'].astype(str) + '\\n' + 'Positive: ' + df['positive'].astype(str) + ', ' + 'Deaths: '+ df['death'].astype(str) + ', ' + 'Negative: '+ df['negative'].astype(str) + ', ' + 'Total Tested: '+ df['total'].astype(str)\n",
    "df = df[df['state'] !=(\"GU\")]\n",
    "df = df[df['state'] !=(\"PR\")]\n",
    "df = df[df['state'] !=(\"AS\")]\n",
    "df = df[df['state'] !=(\"MP\")]\n",
    "df = df[df['state'] !=(\"PRI\")]\n",
    "df = df[df['state'] !=(\"VIR\")]\n",
    "df = df[df['state'] !=(\"VI\")]"
   ]
  },
  {
   "cell_type": "code",
   "execution_count": 6,
   "metadata": {
    "ExecuteTime": {
     "end_time": "2020-05-02T18:49:09.227501Z",
     "start_time": "2020-05-02T18:49:09.224679Z"
    }
   },
   "outputs": [],
   "source": [
    "def calculate_num_claims_since_emergency_declaration(x: pd.DataFrame) -> int:    \n",
    "    declaration_date = x[\"Emergency Declaration Date\"].values[0]\n",
    "    return x[x.date >= declaration_date].number_of_iclaims.sum()\n"
   ]
  },
  {
   "cell_type": "code",
   "execution_count": 7,
   "metadata": {
    "ExecuteTime": {
     "end_time": "2020-05-02T18:49:09.270647Z",
     "start_time": "2020-05-02T18:49:09.230906Z"
    }
   },
   "outputs": [],
   "source": [
    "iclaims_since_emergency_by_state = df.groupby(\"state\").apply(calculate_num_claims_since_emergency_declaration)"
   ]
  },
  {
   "cell_type": "code",
   "execution_count": 8,
   "metadata": {
    "ExecuteTime": {
     "end_time": "2020-05-02T18:49:09.305906Z",
     "start_time": "2020-05-02T18:49:09.272909Z"
    }
   },
   "outputs": [],
   "source": [
    "df['iclaims_since_emergency'] = df.state.apply(\n",
    "    lambda x: iclaims_since_emergency_by_state[x] if x in iclaims_since_emergency_by_state else None)"
   ]
  },
  {
   "cell_type": "code",
   "execution_count": 9,
   "metadata": {
    "ExecuteTime": {
     "end_time": "2020-05-02T18:49:09.347371Z",
     "start_time": "2020-05-02T18:49:09.307985Z"
    }
   },
   "outputs": [],
   "source": [
    "def calculate_num_claims_since_stayathome_order(x: pd.DataFrame) -> int:    \n",
    "    stayathome_date = x[\"Stay At Home Order Date\"].values[0]\n",
    "    return x[x.date >= stayathome_date].number_of_iclaims.sum()\n",
    "iclaims_since_stayathome_by_state = df.groupby(\"state\").apply(calculate_num_claims_since_stayathome_order)"
   ]
  },
  {
   "cell_type": "code",
   "execution_count": 10,
   "metadata": {
    "ExecuteTime": {
     "end_time": "2020-05-02T18:49:09.384339Z",
     "start_time": "2020-05-02T18:49:09.349486Z"
    }
   },
   "outputs": [],
   "source": [
    "df['iclaims_since_stayathome'] = df.state.apply(lambda x: iclaims_since_stayathome_by_state[x] if x in iclaims_since_stayathome_by_state else None)\n"
   ]
  },
  {
   "cell_type": "code",
   "execution_count": 11,
   "metadata": {
    "ExecuteTime": {
     "end_time": "2020-05-02T18:49:09.404302Z",
     "start_time": "2020-05-02T18:49:09.386574Z"
    }
   },
   "outputs": [],
   "source": [
    "df = df.sort_values(by=['date'])\n",
    "df = df[df[\"date\"]>=\"2020-01-30\"]\n",
    "df = df[df[\"death\"].isna()==False]\n",
    "df = df[df[\"positive\"].isna()==False]\n",
    "df['pct_death_over_positive'] = 100*(df['death']/df['positive'])\n",
    "df['death_rate'] = df['death']/df['positive']\n",
    "df['high_pct_death'] = df['pct_death_over_positive'].apply(lambda x: '1%+ death rate' if x >= 1 else \"below 1% death rate\")\n",
    "df['pct_positive_out_of_total_tested'] = 100*(df['positive']/df['total'])\n",
    "df['positive_over_pop'] = (df['positive']/df['POPESTIMATE2019'])*100\n",
    "df['positive_per_100k'] = (df['positive_over_pop']/100)*100000\n",
    "df['pct_pop_tested'] = (df['total']/df['POPESTIMATE2019'])*100\n",
    "df['pct_pop_died'] = (df[\"death\"]/df['POPESTIMATE2019'])*100"
   ]
  },
  {
   "cell_type": "markdown",
   "metadata": {},
   "source": [
    "## Chloropleth maps"
   ]
  },
  {
   "cell_type": "code",
   "execution_count": 12,
   "metadata": {
    "ExecuteTime": {
     "end_time": "2020-05-02T18:49:09.410976Z",
     "start_time": "2020-05-02T18:49:09.406091Z"
    }
   },
   "outputs": [],
   "source": [
    "df2 = df[df.date == max(df['date'])]"
   ]
  },
  {
   "cell_type": "code",
   "execution_count": 13,
   "metadata": {
    "ExecuteTime": {
     "end_time": "2020-05-02T18:49:09.819089Z",
     "start_time": "2020-05-02T18:49:09.412340Z"
    },
    "scrolled": false
   },
   "outputs": [
    {
     "data": {
      "text/html": [
       "<iframe\n",
       "    scrolling=\"no\"\n",
       "    width=\"100%\"\n",
       "    height=\"545px\"\n",
       "    src=\"iframe_figures/figure_13.html\"\n",
       "    frameborder=\"0\"\n",
       "    allowfullscreen\n",
       "></iframe>\n"
      ]
     },
     "metadata": {},
     "output_type": "display_data"
    }
   ],
   "source": [
    "fig = go.Figure(data=go.Choropleth(\n",
    "    locations=df2['state'],\n",
    "    z=df2['positive_per_100k'].astype(float),\n",
    "    locationmode='USA-states',\n",
    "    colorscale='Oranges',\n",
    "    autocolorscale=False,\n",
    "    text=df2['text'],  # hover text\n",
    "    marker_line_color='white',  # line markers between states\n",
    "    colorbar_title=\"Positive per 100,000 people\"\n",
    "))\n",
    "\n",
    "fig.update_layout(\n",
    "    title_text='Positive Covid-19 cases per 100,000 people, by State<br>(Hover for breakdown)',\n",
    "    geo=dict(\n",
    "        scope='usa',\n",
    "        projection=go.layout.geo.Projection(type='albers usa'),\n",
    "        showlakes=True,  # lakes\n",
    "        lakecolor='rgb(255, 255, 255)'),\n",
    ")\n",
    "fig.show();\n",
    "#fig.write_image(\"images/fig01.png\")"
   ]
  },
  {
   "cell_type": "code",
   "execution_count": 14,
   "metadata": {
    "ExecuteTime": {
     "end_time": "2020-05-02T18:49:09.943834Z",
     "start_time": "2020-05-02T18:49:09.821320Z"
    }
   },
   "outputs": [
    {
     "data": {
      "text/html": [
       "<iframe\n",
       "    scrolling=\"no\"\n",
       "    width=\"100%\"\n",
       "    height=\"545px\"\n",
       "    src=\"iframe_figures/figure_14.html\"\n",
       "    frameborder=\"0\"\n",
       "    allowfullscreen\n",
       "></iframe>\n"
      ]
     },
     "metadata": {},
     "output_type": "display_data"
    }
   ],
   "source": [
    "#scale = 1000\n",
    "fig = go.Figure(data=go.Choropleth(\n",
    "    locations=df2['state'],\n",
    "    z=df2['iclaims_since_emergency'],\n",
    "    locationmode='USA-states',\n",
    "    colorscale='Oranges',\n",
    "    autocolorscale=False,\n",
    "    text=df2['text'], # hover text\n",
    "    marker_line_color='white', # line markers between states\n",
    "    colorbar_title=\"Unemployment Insurance Claims\"\n",
    "))\n",
    "\n",
    "fig.update_layout(\n",
    "    title_text='Unemployment Insurance Claims since Emergency Declaration,<br>by State (Hover for breakdown)',\n",
    "    geo = dict(\n",
    "        scope='usa',\n",
    "        projection=go.layout.geo.Projection(type = 'albers usa'),\n",
    "        showlakes=True, # lakes\n",
    "        lakecolor='rgb(255, 255, 255)'),\n",
    ")\n",
    "fig.show();\n",
    "#fig.write_image(\"images/fig02.png\")"
   ]
  },
  {
   "cell_type": "code",
   "execution_count": 15,
   "metadata": {
    "ExecuteTime": {
     "end_time": "2020-05-02T18:49:10.132014Z",
     "start_time": "2020-05-02T18:49:09.946160Z"
    }
   },
   "outputs": [
    {
     "data": {
      "text/html": [
       "<iframe\n",
       "    scrolling=\"no\"\n",
       "    width=\"100%\"\n",
       "    height=\"545px\"\n",
       "    src=\"iframe_figures/figure_15.html\"\n",
       "    frameborder=\"0\"\n",
       "    allowfullscreen\n",
       "></iframe>\n"
      ]
     },
     "metadata": {},
     "output_type": "display_data"
    }
   ],
   "source": [
    "#scale = 1000\n",
    "fig = go.Figure(data=go.Choropleth(\n",
    "    locations=df2['state'],\n",
    "    z=df2['inIcuCumulative'],\n",
    "    locationmode='USA-states',\n",
    "    colorscale='Oranges',\n",
    "    autocolorscale=False,\n",
    "    text=df2['text'], # hover text\n",
    "    marker_line_color='white', # line markers between states\n",
    "    colorbar_title=\"Number of Covid patients in ICU, Cumulative\"\n",
    "))\n",
    "\n",
    "fig.update_layout(\n",
    "    title_text='Number of Covid patients in ICU, Cumulative,<br>for ID, MN, WI, OH, VA (Hover for breakdown)',\n",
    "    geo = dict(\n",
    "        scope='usa',\n",
    "        projection=go.layout.geo.Projection(type = 'albers usa'),\n",
    "        showlakes=True, # lakes\n",
    "        lakecolor='rgb(255, 255, 255)'),\n",
    ")\n",
    "fig.show();\n",
    "#fig.write_image(\"images/fig03.png\")"
   ]
  },
  {
   "cell_type": "code",
   "execution_count": 16,
   "metadata": {
    "ExecuteTime": {
     "end_time": "2020-05-02T18:49:10.249959Z",
     "start_time": "2020-05-02T18:49:10.134100Z"
    }
   },
   "outputs": [
    {
     "data": {
      "text/html": [
       "<iframe\n",
       "    scrolling=\"no\"\n",
       "    width=\"100%\"\n",
       "    height=\"545px\"\n",
       "    src=\"iframe_figures/figure_16.html\"\n",
       "    frameborder=\"0\"\n",
       "    allowfullscreen\n",
       "></iframe>\n"
      ]
     },
     "metadata": {},
     "output_type": "display_data"
    }
   ],
   "source": [
    "#scale = 1000\n",
    "fig = go.Figure(data=go.Choropleth(\n",
    "    locations=df2['state'],\n",
    "    z=df2['onVentilatorCumulative'],\n",
    "    locationmode='USA-states',\n",
    "    colorscale='Oranges',\n",
    "    autocolorscale=False,\n",
    "    text=df2['text'], # hover text\n",
    "    marker_line_color='white', # line markers between states\n",
    "    colorbar_title=\"Number of Covid patients on Ventilators, Cumulative\"\n",
    "))\n",
    "\n",
    "fig.update_layout(\n",
    "    title_text='Number of Covid patients on Ventilators, Cumulative,<br>for OR, VA, and AR (Hover for breakdown)',\n",
    "    geo = dict(\n",
    "        scope='usa',\n",
    "        projection=go.layout.geo.Projection(type = 'albers usa'),\n",
    "        showlakes=True, # lakes\n",
    "        lakecolor='rgb(255, 255, 255)'),\n",
    ")\n",
    "fig.show();\n",
    "#fig.write_image(\"images/fig04.png\")"
   ]
  },
  {
   "cell_type": "code",
   "execution_count": 17,
   "metadata": {
    "ExecuteTime": {
     "end_time": "2020-05-02T18:49:10.385740Z",
     "start_time": "2020-05-02T18:49:10.251720Z"
    }
   },
   "outputs": [
    {
     "data": {
      "text/html": [
       "<iframe\n",
       "    scrolling=\"no\"\n",
       "    width=\"100%\"\n",
       "    height=\"545px\"\n",
       "    src=\"iframe_figures/figure_17.html\"\n",
       "    frameborder=\"0\"\n",
       "    allowfullscreen\n",
       "></iframe>\n"
      ]
     },
     "metadata": {},
     "output_type": "display_data"
    }
   ],
   "source": [
    "#scale = 1000\n",
    "fig = go.Figure(data=go.Choropleth(\n",
    "    locations=df2['state'],\n",
    "    z=df2['hospitalizedCumulative'],\n",
    "    locationmode='USA-states',\n",
    "    colorscale='Oranges',\n",
    "    autocolorscale=False,\n",
    "    text=df2['text'], # hover text\n",
    "    marker_line_color='white', # line markers between states\n",
    "    colorbar_title=\"Number of Covid patients Hospitalized, Cumulative\"\n",
    "))\n",
    "\n",
    "fig.update_layout(\n",
    "    title_text='Number of Covid patients Hospitalized, Cumulative<br>(Hover for breakdown)',\n",
    "    geo = dict(\n",
    "        scope='usa',\n",
    "        projection=go.layout.geo.Projection(type = 'albers usa'),\n",
    "        showlakes=True, # lakes\n",
    "        lakecolor='rgb(255, 255, 255)'),\n",
    ")\n",
    "fig.show();\n",
    "#fig.write_image(\"images/fig05.png\")"
   ]
  },
  {
   "cell_type": "code",
   "execution_count": 18,
   "metadata": {
    "ExecuteTime": {
     "end_time": "2020-05-02T18:49:10.591490Z",
     "start_time": "2020-05-02T18:49:10.387350Z"
    }
   },
   "outputs": [
    {
     "data": {
      "text/html": [
       "<iframe\n",
       "    scrolling=\"no\"\n",
       "    width=\"100%\"\n",
       "    height=\"545px\"\n",
       "    src=\"iframe_figures/figure_18.html\"\n",
       "    frameborder=\"0\"\n",
       "    allowfullscreen\n",
       "></iframe>\n"
      ]
     },
     "metadata": {},
     "output_type": "display_data"
    }
   ],
   "source": [
    "#scale = 1000\n",
    "fig = go.Figure(data=go.Choropleth(\n",
    "    locations=df2['state'],\n",
    "    z=(df2['hospitalizedCumulative']/df2['POPESTIMATE2019'])*100000,\n",
    "    locationmode='USA-states',\n",
    "    colorscale='Oranges',\n",
    "    autocolorscale=False,\n",
    "    text=df2['text'], # hover text\n",
    "    marker_line_color='white', # line markers between states\n",
    "    colorbar_title=\"Hospitalization per 100,000 people\"\n",
    "))\n",
    "\n",
    "fig.update_layout(\n",
    "    title_text='Hospitalization per 100,000 people<br>(Hover for breakdown)',\n",
    "    geo = dict(\n",
    "        scope='usa',\n",
    "        projection=go.layout.geo.Projection(type = 'albers usa'),\n",
    "        showlakes=True, # lakes\n",
    "        lakecolor='rgb(255, 255, 255)'),\n",
    ")\n",
    "fig.show();\n",
    "#fig.write_image(\"images/fig06.png\")"
   ]
  },
  {
   "cell_type": "code",
   "execution_count": 19,
   "metadata": {
    "ExecuteTime": {
     "end_time": "2020-05-02T18:49:10.710260Z",
     "start_time": "2020-05-02T18:49:10.593981Z"
    }
   },
   "outputs": [
    {
     "data": {
      "text/html": [
       "<iframe\n",
       "    scrolling=\"no\"\n",
       "    width=\"100%\"\n",
       "    height=\"545px\"\n",
       "    src=\"iframe_figures/figure_19.html\"\n",
       "    frameborder=\"0\"\n",
       "    allowfullscreen\n",
       "></iframe>\n"
      ]
     },
     "metadata": {},
     "output_type": "display_data"
    }
   ],
   "source": [
    "#scale = 1000\n",
    "fig = go.Figure(data=go.Choropleth(\n",
    "    locations=df2['state'],\n",
    "    z=(df2['hospitalizedCumulative']/df2['positive'])*100,\n",
    "    locationmode='USA-states',\n",
    "    colorscale='Oranges',\n",
    "    autocolorscale=False,\n",
    "    text=df2['text'], # hover text\n",
    "    marker_line_color='white', # line markers between states\n",
    "    colorbar_title=\"Hospitalization rate for positive cases (in %)\"\n",
    "))\n",
    "\n",
    "fig.update_layout(\n",
    "    title_text='Hospitalization rate for positive cases<br>(Hover for breakdown)',\n",
    "    geo = dict(\n",
    "        scope='usa',\n",
    "        projection=go.layout.geo.Projection(type = 'albers usa'),\n",
    "        showlakes=True, # lakes\n",
    "        lakecolor='rgb(255, 255, 255)'),\n",
    ")\n",
    "fig.show();\n",
    "#fig.write_image(\"images/fig07.png\")"
   ]
  },
  {
   "cell_type": "code",
   "execution_count": 20,
   "metadata": {
    "ExecuteTime": {
     "end_time": "2020-05-02T18:49:10.826025Z",
     "start_time": "2020-05-02T18:49:10.712478Z"
    }
   },
   "outputs": [
    {
     "data": {
      "text/html": [
       "<iframe\n",
       "    scrolling=\"no\"\n",
       "    width=\"100%\"\n",
       "    height=\"545px\"\n",
       "    src=\"iframe_figures/figure_20.html\"\n",
       "    frameborder=\"0\"\n",
       "    allowfullscreen\n",
       "></iframe>\n"
      ]
     },
     "metadata": {},
     "output_type": "display_data"
    }
   ],
   "source": [
    "#scale = 1000\n",
    "fig = go.Figure(data=go.Choropleth(\n",
    "    locations=df2['state'],\n",
    "    z=df2['pct_death_over_positive'],\n",
    "    locationmode='USA-states',\n",
    "    colorscale='Oranges',\n",
    "    autocolorscale=False,\n",
    "    text=df2['text'], # hover text\n",
    "    marker_line_color='white', # line markers between states\n",
    "    colorbar_title=\"Death rate in %\"\n",
    "))\n",
    "\n",
    "fig.update_layout(\n",
    "    title_text='Death rate by state<br>(Hover for breakdown)',\n",
    "    geo = dict(\n",
    "        scope='usa',\n",
    "        projection=go.layout.geo.Projection(type = 'albers usa'),\n",
    "        showlakes=True, # lakes\n",
    "        lakecolor='rgb(255, 255, 255)'),\n",
    ")\n",
    "fig.show();\n",
    "#fig.write_image(\"images/fig08.png\")"
   ]
  },
  {
   "cell_type": "code",
   "execution_count": 21,
   "metadata": {
    "ExecuteTime": {
     "end_time": "2020-05-02T18:49:10.951204Z",
     "start_time": "2020-05-02T18:49:10.827998Z"
    }
   },
   "outputs": [
    {
     "data": {
      "text/html": [
       "<iframe\n",
       "    scrolling=\"no\"\n",
       "    width=\"100%\"\n",
       "    height=\"545px\"\n",
       "    src=\"iframe_figures/figure_21.html\"\n",
       "    frameborder=\"0\"\n",
       "    allowfullscreen\n",
       "></iframe>\n"
      ]
     },
     "metadata": {},
     "output_type": "display_data"
    }
   ],
   "source": [
    "#scale = 1000\n",
    "fig = go.Figure(data=go.Choropleth(\n",
    "    locations=df2['state'],\n",
    "    z=df2['pct_pop_tested'],\n",
    "    locationmode='USA-states',\n",
    "    colorscale='Oranges',\n",
    "    autocolorscale=False,\n",
    "    text=df2['text'], # hover text\n",
    "    marker_line_color='white', # line markers between states\n",
    "    colorbar_title=\"Percent of state population tested (in %)\"\n",
    "))\n",
    "\n",
    "fig.update_layout(\n",
    "    title_text='Percent of State Population tested<br>(Hover for breakdown)',\n",
    "    geo = dict(\n",
    "        scope='usa',\n",
    "        projection=go.layout.geo.Projection(type = 'albers usa'),\n",
    "        showlakes=True, # lakes\n",
    "        lakecolor='rgb(255, 255, 255)'),\n",
    ")\n",
    "fig.show();\n",
    "#fig.write_image(\"images/fig09.png\")"
   ]
  },
  {
   "cell_type": "code",
   "execution_count": 22,
   "metadata": {
    "ExecuteTime": {
     "end_time": "2020-05-02T18:49:11.204790Z",
     "start_time": "2020-05-02T18:49:10.953515Z"
    }
   },
   "outputs": [
    {
     "data": {
      "text/html": [
       "<iframe\n",
       "    scrolling=\"no\"\n",
       "    width=\"100%\"\n",
       "    height=\"545px\"\n",
       "    src=\"iframe_figures/figure_22.html\"\n",
       "    frameborder=\"0\"\n",
       "    allowfullscreen\n",
       "></iframe>\n"
      ]
     },
     "metadata": {},
     "output_type": "display_data"
    }
   ],
   "source": [
    "#scale = 1000\n",
    "fig = go.Figure(data=go.Choropleth(\n",
    "    locations=df2['state'],\n",
    "    z=df2['iclaims_since_stayathome'],\n",
    "    locationmode='USA-states',\n",
    "    colorscale='Oranges',\n",
    "    autocolorscale=False,\n",
    "    text=df2['text'], # hover text\n",
    "    marker_line_color='white', # line markers between states\n",
    "    colorbar_title=\"Number of Claims since Stay-at-home Orders\"\n",
    "))\n",
    "\n",
    "fig.update_layout(\n",
    "    title_text='Number of Unemp. Ins. Claims since Stay-at-home Orders, by State<br>(Hover for breakdown)',\n",
    "    geo = dict(\n",
    "        scope='usa',\n",
    "        projection=go.layout.geo.Projection(type = 'albers usa'),\n",
    "        showlakes=True, # lakes\n",
    "        lakecolor='rgb(255, 255, 255)'),\n",
    ")\n",
    "fig.show();\n",
    "#fig.write_image(\"images/fig10.png\")"
   ]
  },
  {
   "cell_type": "code",
   "execution_count": 23,
   "metadata": {
    "ExecuteTime": {
     "end_time": "2020-05-02T18:49:11.334323Z",
     "start_time": "2020-05-02T18:49:11.206889Z"
    }
   },
   "outputs": [
    {
     "data": {
      "text/html": [
       "<iframe\n",
       "    scrolling=\"no\"\n",
       "    width=\"100%\"\n",
       "    height=\"545px\"\n",
       "    src=\"iframe_figures/figure_23.html\"\n",
       "    frameborder=\"0\"\n",
       "    allowfullscreen\n",
       "></iframe>\n"
      ]
     },
     "metadata": {},
     "output_type": "display_data"
    }
   ],
   "source": [
    "#scale = 1000\n",
    "df5 = df4[df4['Characteristic']== \"19 - 64 years\"]\n",
    "fig = go.Figure(data=go.Choropleth(\n",
    "    locations=df5['state'],\n",
    "    z=df5['Percent'],\n",
    "    locationmode='USA-states',\n",
    "    colorscale='Oranges',\n",
    "    autocolorscale=False,\n",
    "    text=df5['Percent'], # hover text\n",
    "    marker_line_color='white', # line markers between states\n",
    "    colorbar_title=\"Percent of 19-64 years old population\"\n",
    "))\n",
    "\n",
    "fig.update_layout(\n",
    "    title_text='Percent of 19-64 years old population who have employment based insurance(Hover for breakdown)',\n",
    "    geo = dict(\n",
    "        scope='usa',\n",
    "        projection=go.layout.geo.Projection(type = 'albers usa'),\n",
    "        showlakes=True, # lakes\n",
    "        lakecolor='rgb(255, 255, 255)'),\n",
    ")\n",
    "fig.show();\n",
    "#fig.write_image(\"images/fig11.png\")"
   ]
  },
  {
   "cell_type": "code",
   "execution_count": 24,
   "metadata": {
    "ExecuteTime": {
     "end_time": "2020-05-02T18:49:11.460251Z",
     "start_time": "2020-05-02T18:49:11.336598Z"
    }
   },
   "outputs": [
    {
     "data": {
      "text/html": [
       "<iframe\n",
       "    scrolling=\"no\"\n",
       "    width=\"100%\"\n",
       "    height=\"545px\"\n",
       "    src=\"iframe_figures/figure_24.html\"\n",
       "    frameborder=\"0\"\n",
       "    allowfullscreen\n",
       "></iframe>\n"
      ]
     },
     "metadata": {},
     "output_type": "display_data"
    }
   ],
   "source": [
    "#scale = 1000\n",
    "df5 = df4[df4['Characteristic']== \"65 years and over\"]\n",
    "fig = go.Figure(data=go.Choropleth(\n",
    "    locations=df5['state'],\n",
    "    z=df5['Percent'],\n",
    "    locationmode='USA-states',\n",
    "    colorscale='Oranges',\n",
    "    autocolorscale=False,\n",
    "    text=df5['Percent'], # hover text\n",
    "    marker_line_color='white', # line markers between states\n",
    "    colorbar_title=\"Percent of 65+ years old population\"\n",
    "))\n",
    "\n",
    "fig.update_layout(\n",
    "    title_text='Percent of 65+ years old population who have employment based insurance(Hover for breakdown)',\n",
    "    geo = dict(\n",
    "        scope='usa',\n",
    "        projection=go.layout.geo.Projection(type = 'albers usa'),\n",
    "        showlakes=True, # lakes\n",
    "        lakecolor='rgb(255, 255, 255)'),\n",
    ")\n",
    "fig.show();\n",
    "#fig.write_image(\"images/fig12.png\")"
   ]
  },
  {
   "cell_type": "code",
   "execution_count": 25,
   "metadata": {
    "ExecuteTime": {
     "end_time": "2020-05-02T18:49:11.592500Z",
     "start_time": "2020-05-02T18:49:11.468821Z"
    }
   },
   "outputs": [
    {
     "data": {
      "text/html": [
       "<iframe\n",
       "    scrolling=\"no\"\n",
       "    width=\"100%\"\n",
       "    height=\"545px\"\n",
       "    src=\"iframe_figures/figure_25.html\"\n",
       "    frameborder=\"0\"\n",
       "    allowfullscreen\n",
       "></iframe>\n"
      ]
     },
     "metadata": {},
     "output_type": "display_data"
    }
   ],
   "source": [
    "#scale = 1000\n",
    "fig = go.Figure(data=go.Choropleth(\n",
    "    locations=df2['state'],\n",
    "    z=df2['pct_pop_died'],\n",
    "    locationmode='USA-states',\n",
    "    colorscale='Oranges',\n",
    "    autocolorscale=False,\n",
    "    text=df2['text'], # hover text\n",
    "    marker_line_color='white', # line markers between states\n",
    "    colorbar_title=\"Percent of population that have<br> died from COVID-19 (%)\"\n",
    "))\n",
    "\n",
    "fig.update_layout(\n",
    "    title_text='Percent of state population that have died from COVID-19<br>(Hover for breakdown)',\n",
    "    geo = dict(\n",
    "        scope='usa',\n",
    "        projection=go.layout.geo.Projection(type = 'albers usa'),\n",
    "        showlakes=True, # lakes\n",
    "        lakecolor='rgb(255, 255, 255)'),\n",
    ")\n",
    "fig.show();\n",
    "#fig.write_image(\"images/fig13.png\")"
   ]
  },
  {
   "cell_type": "code",
   "execution_count": 26,
   "metadata": {
    "ExecuteTime": {
     "end_time": "2020-05-02T18:49:11.842931Z",
     "start_time": "2020-05-02T18:49:11.594439Z"
    }
   },
   "outputs": [
    {
     "data": {
      "text/html": [
       "<iframe\n",
       "    scrolling=\"no\"\n",
       "    width=\"100%\"\n",
       "    height=\"545px\"\n",
       "    src=\"iframe_figures/figure_26.html\"\n",
       "    frameborder=\"0\"\n",
       "    allowfullscreen\n",
       "></iframe>\n"
      ]
     },
     "metadata": {},
     "output_type": "display_data"
    }
   ],
   "source": [
    "#scale = 1000\n",
    "fig = go.Figure(data=go.Choropleth(\n",
    "    locations=df2['state'],\n",
    "    z=(df2['iclaims_since_emergency']/df2['POPESTIMATE2019'])*100,\n",
    "    locationmode='USA-states',\n",
    "    colorscale='Oranges',\n",
    "    autocolorscale=False,\n",
    "    text=df2['text'], # hover text\n",
    "    marker_line_color='white', # line markers between states\n",
    "    colorbar_title=\"Percent of population who claimed<br>unemployment insurance (%)\"\n",
    "))\n",
    "\n",
    "fig.update_layout(\n",
    "    title_text='Percent of population who claimed unemployment insurance<br>since emergency declaration, by State<br>(Hover for breakdown)',\n",
    "    geo = dict(\n",
    "        scope='usa',\n",
    "        projection=go.layout.geo.Projection(type = 'albers usa'),\n",
    "        showlakes=True, # lakes\n",
    "        lakecolor='rgb(255, 255, 255)'),\n",
    ")\n",
    "fig.show();\n",
    "#fig.write_image(\"images/fig14.png\")\n"
   ]
  },
  {
   "cell_type": "code",
   "execution_count": null,
   "metadata": {},
   "outputs": [],
   "source": []
  },
  {
   "cell_type": "code",
   "execution_count": null,
   "metadata": {},
   "outputs": [],
   "source": []
  }
 ],
 "metadata": {
  "kernelspec": {
   "display_name": "Python 3",
   "language": "python",
   "name": "python3"
  },
  "language_info": {
   "codemirror_mode": {
    "name": "ipython",
    "version": 3
   },
   "file_extension": ".py",
   "mimetype": "text/x-python",
   "name": "python",
   "nbconvert_exporter": "python",
   "pygments_lexer": "ipython3",
   "version": "3.7.7"
  },
  "toc": {
   "base_numbering": 1,
   "nav_menu": {},
   "number_sections": true,
   "sideBar": true,
   "skip_h1_title": false,
   "title_cell": "Table of Contents",
   "title_sidebar": "Contents",
   "toc_cell": false,
   "toc_position": {},
   "toc_section_display": true,
   "toc_window_display": false
  }
 },
 "nbformat": 4,
 "nbformat_minor": 2
}
